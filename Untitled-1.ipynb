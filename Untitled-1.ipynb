{
 "cells": [
  {
   "cell_type": "code",
   "execution_count": null,
   "metadata": {},
   "outputs": [],
   "source": [
    "import pandas as pd\n",
    "\n",
    "#Loading the dataset\n",
    "df=pd.read_csv('acquisitions_update_2021.csv')\n",
    "\n",
    "#Displaying the first 5 rows of the dataset to ensure that the data has been loaded correctly\n",
    "print(df.head())"
   ]
  },
  {
   "cell_type": "code",
   "execution_count": null,
   "metadata": {},
   "outputs": [],
   "source": [
    "#Inspecting the data for missing values, data types, and summary statistics\n",
    "\n",
    "#missing values\n",
    "print(df.isnull().sum())\n",
    "\n",
    "#data types\n",
    "print(df.dtypes)\n",
    "\n",
    "#summary statistics\n",
    "print(df.describe())"
   ]
  },
  {
   "cell_type": "code",
   "execution_count": null,
   "metadata": {},
   "outputs": [],
   "source": [
    "#Exploratory Data Analysis (EDA)"
   ]
  },
  {
   "cell_type": "code",
   "execution_count": null,
   "metadata": {},
   "outputs": [],
   "source": [
    "#1. Acquisition trends over the years - this helps us see if there were any peak years\n",
    "import matplotlib.pyplot as plt\n",
    "import seaborn as sns\n",
    "\n",
    "#Setting the plot style\n",
    "sns.set_style(\"whitegrid\")\n",
    "\n",
    "#Count the number of acquisitions per year\n",
    "acquisitions_per_year = df['Acquisition Year'].value_counts().sort_index()\n",
    "\n",
    "#Plot the acquisitions over time\n",
    "plt.figure(figsize=(12,6))\n",
    "sns.lineplot(x=acquisitions_per_year.index, y=acquisitions_per_year.values, marker='o')\n",
    "plt.title('Number of Acquisitions Over Time', fontsize=14)\n",
    "plt.xlabel('Year')\n",
    "plt.ylabel('Number of Acquisitions')\n",
    "plt.xticks(rotation=45)\n",
    "plt.show()"
   ]
  },
  {
   "cell_type": "code",
   "execution_count": null,
   "metadata": {},
   "outputs": [],
   "source": [
    "#2. Distribution of acquisition prices - this helps us determine if there are any patterns\n",
    "# in deal sizes\n",
    "\n",
    "#Plot the distribution of acquisition prices\n",
    "plt.figure(figsize=(180,60))\n",
    "sns.histplot(df['Acquisition Price'], bins=30, kde=True)\n",
    "\n",
    "plt.title('Distribution of Acquisition Prices', fontsize=14)\n",
    "plt.xlabel('Acquisition Price (in Millions or Billions USD)')\n",
    "plt.ylabel('Frequency')\n",
    "\n",
    "#Format x-axis labels for better readability\n",
    "plt.xticks(rotation=45)\n",
    "\n",
    "plt.show()"
   ]
  },
  {
   "cell_type": "code",
   "execution_count": null,
   "metadata": {},
   "outputs": [],
   "source": [
    "#3. Comparing the average acquisition price by acquiring company - this helps us understand which companies tend to spend\n",
    "# more on acquisitions\n",
    "\n",
    "#Convert all acquisition prices to numeric values\n",
    "df['Acquisition Price'] = pd.to_numeric(df['Acquisition Price'], errors='coerce')\n",
    "\n",
    "\n",
    "# Group by acquiring company and calculate the mean acquisition price\n",
    "company_acquisition_price = df.groupby('Parent Company')['Acquisition Price'].mean().sort_values()\n",
    "\n",
    "# Plot a bar chart\n",
    "plt.figure(figsize=(12, 6))\n",
    "sns.barplot(x=company_acquisition_price.index, y=company_acquisition_price.values, palette=\"viridis\", hue=company_acquisition_price.index)\n",
    "\n",
    "plt.title(\"Average Acquisition Price by Company\", fontsize=14)\n",
    "plt.xlabel(\"Acquiring Company\")\n",
    "plt.ylabel(\"Average Acquisition Price\")\n",
    "plt.xticks(rotation=45)\n",
    "plt.show()\n"
   ]
  },
  {
   "cell_type": "code",
   "execution_count": null,
   "metadata": {},
   "outputs": [],
   "source": []
  }
 ],
 "metadata": {
  "kernelspec": {
   "display_name": "Python 3",
   "language": "python",
   "name": "python3"
  },
  "language_info": {
   "codemirror_mode": {
    "name": "ipython",
    "version": 3
   },
   "file_extension": ".py",
   "mimetype": "text/x-python",
   "name": "python",
   "nbconvert_exporter": "python",
   "pygments_lexer": "ipython3",
   "version": "3.13.2"
  }
 },
 "nbformat": 4,
 "nbformat_minor": 2
}
